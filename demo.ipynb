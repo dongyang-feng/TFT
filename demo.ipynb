{
 "cells": [
  {
   "cell_type": "code",
   "execution_count": 57,
   "metadata": {
    "collapsed": true,
    "pycharm": {
     "name": "#%%\n"
    }
   },
   "outputs": [],
   "source": [
    "import copy\n",
    "from pathlib import Path\n",
    "import warnings\n",
    "\n",
    "import numpy as np\n",
    "import pandas as pd\n",
    "import pytorch_lightning as pl\n",
    "from pytorch_lightning.callbacks import EarlyStopping, LearningRateMonitor\n",
    "from pytorch_lightning.loggers import TensorBoardLogger\n",
    "import torch\n",
    "\n",
    "from pytorch_forecasting import Baseline, TemporalFusionTransformer, TimeSeriesDataSet\n",
    "from pytorch_forecasting.data import GroupNormalizer\n",
    "from pytorch_forecasting.metrics import SMAPE, PoissonLoss, QuantileLoss\n",
    "from pytorch_forecasting.models.temporal_fusion_transformer.tuning import optimize_hyperparameters"
   ]
  },
  {
   "cell_type": "code",
   "execution_count": 58,
   "outputs": [
    {
     "data": {
      "text/plain": "          agency     sku     volume       date  industry_volume  soda_volume  \\\n291    Agency_25  SKU_03     0.5076 2013-01-01        492612703    718394219   \n871    Agency_29  SKU_02     8.7480 2015-01-01        498567142    762225057   \n19532  Agency_47  SKU_01     4.9680 2013-09-01        454252482    789624076   \n2089   Agency_53  SKU_07    21.6825 2013-10-01        480693900    791658684   \n9755   Agency_17  SKU_02   960.5520 2015-03-01        515468092    871204688   \n7561   Agency_05  SKU_03  1184.6535 2014-02-01        425528909    734443953   \n19204  Agency_11  SKU_05     5.5593 2017-08-01        623319783   1049868815   \n8781   Agency_48  SKU_04  4275.1605 2013-03-01        509281531    892192092   \n2540   Agency_07  SKU_21     0.0000 2015-10-01        544203593    761469815   \n12084  Agency_21  SKU_03    46.3608 2017-04-01        589969396    940912941   \n\n       avg_max_temp  price_regular  price_actual    discount  ...  \\\n291       25.845238    1264.162234   1152.473405  111.688829  ...   \n871       27.584615    1316.098485   1296.804924   19.293561  ...   \n19532     30.665957    1269.250000   1266.490490    2.759510  ...   \n2089      29.197727    1193.842373   1128.124395   65.717978  ...   \n9755      23.608120    1338.334248   1232.128069  106.206179  ...   \n7561      28.668254    1369.556376   1161.135214  208.421162  ...   \n19204     31.915385    1922.486644   1651.307674  271.178970  ...   \n8781      26.767857    1761.258209   1546.059670  215.198539  ...   \n2540      28.987755       0.000000      0.000000    0.000000  ...   \n12084     32.478910    1675.922116   1413.571789  262.350327  ...   \n\n       football_gold_cup  beer_capital  music_fest discount_in_percent  \\\n291                    -             -           -            8.835008   \n871                    -             -           -            1.465966   \n19532                  -             -           -            0.217413   \n2089                   -  beer_capital           -            5.504745   \n9755                   -             -  music_fest            7.935699   \n7561                   -             -           -           15.218151   \n19204                  -             -           -           14.105636   \n8781                   -             -  music_fest           12.218455   \n2540                   -             -           -            0.000000   \n12084                  -             -           -           15.654088   \n\n      timeseries time_idx month log_volume avg_volume_by_sku  \\\n291          228        0     1  -0.678062       1225.306376   \n871          177       24     1   2.168825       1634.434615   \n19532        322        8     9   1.603017       2625.472644   \n2089         240        9    10   3.076505         38.529107   \n9755         259       26     3   6.867508       2143.677462   \n7561          21       13     2   7.077206       1566.643589   \n19204         17       55     8   1.715472       1385.225478   \n8781         151        2     3   8.360577       1757.950603   \n2540         300       33    10 -18.420681          0.000000   \n12084        181       51     4   3.836454       2034.293024   \n\n      avg_volume_by_agency  \n291              99.650400  \n871              11.397086  \n19532            48.295650  \n2089           2511.035175  \n9755            396.022140  \n7561           1881.866367  \n19204           109.699200  \n8781           1925.272108  \n2540           2418.719550  \n12084           109.381800  \n\n[10 rows x 31 columns]",
      "text/html": "<div>\n<style scoped>\n    .dataframe tbody tr th:only-of-type {\n        vertical-align: middle;\n    }\n\n    .dataframe tbody tr th {\n        vertical-align: top;\n    }\n\n    .dataframe thead th {\n        text-align: right;\n    }\n</style>\n<table border=\"1\" class=\"dataframe\">\n  <thead>\n    <tr style=\"text-align: right;\">\n      <th></th>\n      <th>agency</th>\n      <th>sku</th>\n      <th>volume</th>\n      <th>date</th>\n      <th>industry_volume</th>\n      <th>soda_volume</th>\n      <th>avg_max_temp</th>\n      <th>price_regular</th>\n      <th>price_actual</th>\n      <th>discount</th>\n      <th>...</th>\n      <th>football_gold_cup</th>\n      <th>beer_capital</th>\n      <th>music_fest</th>\n      <th>discount_in_percent</th>\n      <th>timeseries</th>\n      <th>time_idx</th>\n      <th>month</th>\n      <th>log_volume</th>\n      <th>avg_volume_by_sku</th>\n      <th>avg_volume_by_agency</th>\n    </tr>\n  </thead>\n  <tbody>\n    <tr>\n      <th>291</th>\n      <td>Agency_25</td>\n      <td>SKU_03</td>\n      <td>0.5076</td>\n      <td>2013-01-01</td>\n      <td>492612703</td>\n      <td>718394219</td>\n      <td>25.845238</td>\n      <td>1264.162234</td>\n      <td>1152.473405</td>\n      <td>111.688829</td>\n      <td>...</td>\n      <td>-</td>\n      <td>-</td>\n      <td>-</td>\n      <td>8.835008</td>\n      <td>228</td>\n      <td>0</td>\n      <td>1</td>\n      <td>-0.678062</td>\n      <td>1225.306376</td>\n      <td>99.650400</td>\n    </tr>\n    <tr>\n      <th>871</th>\n      <td>Agency_29</td>\n      <td>SKU_02</td>\n      <td>8.7480</td>\n      <td>2015-01-01</td>\n      <td>498567142</td>\n      <td>762225057</td>\n      <td>27.584615</td>\n      <td>1316.098485</td>\n      <td>1296.804924</td>\n      <td>19.293561</td>\n      <td>...</td>\n      <td>-</td>\n      <td>-</td>\n      <td>-</td>\n      <td>1.465966</td>\n      <td>177</td>\n      <td>24</td>\n      <td>1</td>\n      <td>2.168825</td>\n      <td>1634.434615</td>\n      <td>11.397086</td>\n    </tr>\n    <tr>\n      <th>19532</th>\n      <td>Agency_47</td>\n      <td>SKU_01</td>\n      <td>4.9680</td>\n      <td>2013-09-01</td>\n      <td>454252482</td>\n      <td>789624076</td>\n      <td>30.665957</td>\n      <td>1269.250000</td>\n      <td>1266.490490</td>\n      <td>2.759510</td>\n      <td>...</td>\n      <td>-</td>\n      <td>-</td>\n      <td>-</td>\n      <td>0.217413</td>\n      <td>322</td>\n      <td>8</td>\n      <td>9</td>\n      <td>1.603017</td>\n      <td>2625.472644</td>\n      <td>48.295650</td>\n    </tr>\n    <tr>\n      <th>2089</th>\n      <td>Agency_53</td>\n      <td>SKU_07</td>\n      <td>21.6825</td>\n      <td>2013-10-01</td>\n      <td>480693900</td>\n      <td>791658684</td>\n      <td>29.197727</td>\n      <td>1193.842373</td>\n      <td>1128.124395</td>\n      <td>65.717978</td>\n      <td>...</td>\n      <td>-</td>\n      <td>beer_capital</td>\n      <td>-</td>\n      <td>5.504745</td>\n      <td>240</td>\n      <td>9</td>\n      <td>10</td>\n      <td>3.076505</td>\n      <td>38.529107</td>\n      <td>2511.035175</td>\n    </tr>\n    <tr>\n      <th>9755</th>\n      <td>Agency_17</td>\n      <td>SKU_02</td>\n      <td>960.5520</td>\n      <td>2015-03-01</td>\n      <td>515468092</td>\n      <td>871204688</td>\n      <td>23.608120</td>\n      <td>1338.334248</td>\n      <td>1232.128069</td>\n      <td>106.206179</td>\n      <td>...</td>\n      <td>-</td>\n      <td>-</td>\n      <td>music_fest</td>\n      <td>7.935699</td>\n      <td>259</td>\n      <td>26</td>\n      <td>3</td>\n      <td>6.867508</td>\n      <td>2143.677462</td>\n      <td>396.022140</td>\n    </tr>\n    <tr>\n      <th>7561</th>\n      <td>Agency_05</td>\n      <td>SKU_03</td>\n      <td>1184.6535</td>\n      <td>2014-02-01</td>\n      <td>425528909</td>\n      <td>734443953</td>\n      <td>28.668254</td>\n      <td>1369.556376</td>\n      <td>1161.135214</td>\n      <td>208.421162</td>\n      <td>...</td>\n      <td>-</td>\n      <td>-</td>\n      <td>-</td>\n      <td>15.218151</td>\n      <td>21</td>\n      <td>13</td>\n      <td>2</td>\n      <td>7.077206</td>\n      <td>1566.643589</td>\n      <td>1881.866367</td>\n    </tr>\n    <tr>\n      <th>19204</th>\n      <td>Agency_11</td>\n      <td>SKU_05</td>\n      <td>5.5593</td>\n      <td>2017-08-01</td>\n      <td>623319783</td>\n      <td>1049868815</td>\n      <td>31.915385</td>\n      <td>1922.486644</td>\n      <td>1651.307674</td>\n      <td>271.178970</td>\n      <td>...</td>\n      <td>-</td>\n      <td>-</td>\n      <td>-</td>\n      <td>14.105636</td>\n      <td>17</td>\n      <td>55</td>\n      <td>8</td>\n      <td>1.715472</td>\n      <td>1385.225478</td>\n      <td>109.699200</td>\n    </tr>\n    <tr>\n      <th>8781</th>\n      <td>Agency_48</td>\n      <td>SKU_04</td>\n      <td>4275.1605</td>\n      <td>2013-03-01</td>\n      <td>509281531</td>\n      <td>892192092</td>\n      <td>26.767857</td>\n      <td>1761.258209</td>\n      <td>1546.059670</td>\n      <td>215.198539</td>\n      <td>...</td>\n      <td>-</td>\n      <td>-</td>\n      <td>music_fest</td>\n      <td>12.218455</td>\n      <td>151</td>\n      <td>2</td>\n      <td>3</td>\n      <td>8.360577</td>\n      <td>1757.950603</td>\n      <td>1925.272108</td>\n    </tr>\n    <tr>\n      <th>2540</th>\n      <td>Agency_07</td>\n      <td>SKU_21</td>\n      <td>0.0000</td>\n      <td>2015-10-01</td>\n      <td>544203593</td>\n      <td>761469815</td>\n      <td>28.987755</td>\n      <td>0.000000</td>\n      <td>0.000000</td>\n      <td>0.000000</td>\n      <td>...</td>\n      <td>-</td>\n      <td>-</td>\n      <td>-</td>\n      <td>0.000000</td>\n      <td>300</td>\n      <td>33</td>\n      <td>10</td>\n      <td>-18.420681</td>\n      <td>0.000000</td>\n      <td>2418.719550</td>\n    </tr>\n    <tr>\n      <th>12084</th>\n      <td>Agency_21</td>\n      <td>SKU_03</td>\n      <td>46.3608</td>\n      <td>2017-04-01</td>\n      <td>589969396</td>\n      <td>940912941</td>\n      <td>32.478910</td>\n      <td>1675.922116</td>\n      <td>1413.571789</td>\n      <td>262.350327</td>\n      <td>...</td>\n      <td>-</td>\n      <td>-</td>\n      <td>-</td>\n      <td>15.654088</td>\n      <td>181</td>\n      <td>51</td>\n      <td>4</td>\n      <td>3.836454</td>\n      <td>2034.293024</td>\n      <td>109.381800</td>\n    </tr>\n  </tbody>\n</table>\n<p>10 rows × 31 columns</p>\n</div>"
     },
     "execution_count": 58,
     "metadata": {},
     "output_type": "execute_result"
    }
   ],
   "source": [
    "from pytorch_forecasting.data.examples import get_stallion_data\n",
    "\n",
    "data = get_stallion_data() # 返回的data就是pd格式的数据类型\n",
    "\n",
    "# add time index\n",
    "data[\"time_idx\"] = data[\"date\"].dt.year * 12 + data[\"date\"].dt.month # time_idx变量很重要，后面都要使用\n",
    "data[\"time_idx\"] -= data[\"time_idx\"].min()\n",
    "\n",
    "# add additional features\n",
    "data[\"month\"] = data.date.dt.month.astype(str).astype(\"category\")  # categories have be strings\n",
    "data[\"log_volume\"] = np.log(data.volume + 1e-8)\n",
    "data[\"avg_volume_by_sku\"] = data.groupby([\"time_idx\", \"sku\"], observed=True).volume.transform(\"mean\")\n",
    "data[\"avg_volume_by_agency\"] = data.groupby([\"time_idx\", \"agency\"], observed=True).volume.transform(\"mean\")\n",
    "\n",
    "# we want to encode special days as one variable and thus need to first reverse one-hot encoding\n",
    "special_days = [\n",
    "    \"easter_day\",\n",
    "    \"good_friday\",\n",
    "    \"new_year\",\n",
    "    \"christmas\",\n",
    "    \"labor_day\",\n",
    "    \"independence_day\",\n",
    "    \"revolution_day_memorial\",\n",
    "    \"regional_games\",\n",
    "    \"fifa_u_17_world_cup\",\n",
    "    \"football_gold_cup\",\n",
    "    \"beer_capital\",\n",
    "    \"music_fest\",\n",
    "]\n",
    "data[special_days] = data[special_days].apply(lambda x: x.map({0: \"-\", 1: x.name})).astype(\"category\")\n",
    "data.sample(10, random_state=521)"
   ],
   "metadata": {
    "collapsed": false,
    "pycharm": {
     "name": "#%%\n"
    }
   }
  },
  {
   "cell_type": "code",
   "execution_count": 58,
   "outputs": [],
   "source": [],
   "metadata": {
    "collapsed": false,
    "pycharm": {
     "name": "#%%\n"
    }
   }
  },
  {
   "cell_type": "code",
   "execution_count": 59,
   "outputs": [],
   "source": [
    "max_prediction_length = 6\n",
    "max_encoder_length = 24\n",
    "training_cutoff = data[\"time_idx\"].max() - max_prediction_length\n",
    "\n",
    "training = TimeSeriesDataSet(\n",
    "    data[lambda x: x.time_idx <= training_cutoff],\n",
    "    time_idx=\"time_idx\",\n",
    "    target=\"volume\",\n",
    "    group_ids=[\"agency\", \"sku\"],\n",
    "    min_encoder_length=max_encoder_length // 2,  # keep encoder length long (as it is in the validation set)\n",
    "    max_encoder_length=max_encoder_length,\n",
    "    min_prediction_length=1,\n",
    "    max_prediction_length=max_prediction_length,\n",
    "    static_categoricals=[\"agency\", \"sku\"],\n",
    "    static_reals=[\"avg_population_2017\", \"avg_yearly_household_income_2017\"],\n",
    "    time_varying_known_categoricals=[\"special_days\", \"month\"],\n",
    "    variable_groups={\"special_days\": special_days},  # group of categorical variables can be treated as one variable\n",
    "    time_varying_known_reals=[\"time_idx\", \"price_regular\", \"discount_in_percent\"],\n",
    "    time_varying_unknown_categoricals=[],\n",
    "    time_varying_unknown_reals=[\n",
    "        \"volume\",\n",
    "        \"log_volume\",\n",
    "        \"industry_volume\",\n",
    "        \"soda_volume\",\n",
    "        \"avg_max_temp\",\n",
    "        \"avg_volume_by_agency\",\n",
    "        \"avg_volume_by_sku\",\n",
    "    ],\n",
    "    target_normalizer=GroupNormalizer(\n",
    "        groups=[\"agency\", \"sku\"], transformation=\"softplus\"\n",
    "    ),  # use softplus and normalize by group\n",
    "    add_relative_time_idx=True,\n",
    "    add_target_scales=True,\n",
    "    add_encoder_length=True,\n",
    ")\n",
    "# create validation set (predict=True) which means to predict the last max_prediction_length points in time\n",
    "# for each series\n",
    "validation = TimeSeriesDataSet.from_dataset(training, data, predict=True, stop_randomization=True)\n",
    "\n",
    "# create dataloaders for model\n",
    "batch_size = 128  # set this between 32 to 128\n",
    "train_dataloader = training.to_dataloader(train=True, batch_size=batch_size, num_workers=1)\n",
    "val_dataloader = validation.to_dataloader(train=False, batch_size=batch_size * 10, num_workers=1)"
   ],
   "metadata": {
    "collapsed": false,
    "pycharm": {
     "name": "#%%\n"
    }
   }
  },
  {
   "cell_type": "markdown",
   "source": [
    "创建基线模型，基线模型就是简单地将最近观测道德值作为未来6个月的预测结果"
   ],
   "metadata": {
    "collapsed": false,
    "pycharm": {
     "name": "#%% md\n"
    }
   }
  },
  {
   "cell_type": "code",
   "execution_count": 60,
   "outputs": [
    {
     "name": "stderr",
     "output_type": "stream",
     "text": [
      "C:\\Users\\a\\anaconda3\\envs\\venv\\lib\\site-packages\\pytorch_lightning\\utilities\\parsing.py:268: UserWarning: Attribute 'loss' is an instance of `nn.Module` and is already saved during checkpointing. It is recommended to ignore them using `self.save_hyperparameters(ignore=['loss'])`.\n",
      "  rank_zero_warn(\n",
      "C:\\Users\\a\\anaconda3\\envs\\venv\\lib\\site-packages\\pytorch_lightning\\utilities\\parsing.py:268: UserWarning: Attribute 'logging_metrics' is an instance of `nn.Module` and is already saved during checkpointing. It is recommended to ignore them using `self.save_hyperparameters(ignore=['logging_metrics'])`.\n",
      "  rank_zero_warn(\n"
     ]
    },
    {
     "data": {
      "text/plain": "293.0088195800781"
     },
     "execution_count": 60,
     "metadata": {},
     "output_type": "execute_result"
    }
   ],
   "source": [
    "actuals = torch.cat([y for x, (y, weight) in iter(val_dataloader)])\n",
    "baseline_predictions = Baseline().predict(val_dataloader)\n",
    "(actuals - baseline_predictions).abs().mean().item()"
   ],
   "metadata": {
    "collapsed": false,
    "pycharm": {
     "name": "#%%\n"
    }
   }
  },
  {
   "cell_type": "code",
   "execution_count": 61,
   "outputs": [
    {
     "name": "stderr",
     "output_type": "stream",
     "text": [
      "Global seed set to 42\n",
      "C:\\Users\\a\\anaconda3\\envs\\venv\\lib\\site-packages\\pytorch_lightning\\trainer\\connectors\\accelerator_connector.py:447: LightningDeprecationWarning: Setting `Trainer(gpus=0)` is deprecated in v1.7 and will be removed in v2.0. Please use `Trainer(accelerator='gpu', devices=0)` instead.\n",
      "  rank_zero_deprecation(\n",
      "GPU available: False, used: False\n",
      "TPU available: False, using: 0 TPU cores\n",
      "IPU available: False, using: 0 IPUs\n",
      "HPU available: False, using: 0 HPUs\n"
     ]
    },
    {
     "name": "stdout",
     "output_type": "stream",
     "text": [
      "Number of parameters in network: 29.7k\n"
     ]
    }
   ],
   "source": [
    "# configure network and trainer\n",
    "pl.seed_everything(42)\n",
    "trainer = pl.Trainer(\n",
    "    gpus=0,\n",
    "    # clipping gradients is a hyperparameter and important to prevent divergance\n",
    "    # of the gradient for recurrent neural networks\n",
    "    gradient_clip_val=0.1,\n",
    ")\n",
    "\n",
    "\n",
    "tft = TemporalFusionTransformer.from_dataset(\n",
    "    training,\n",
    "    # not meaningful for finding the learning rate but otherwise very important\n",
    "    learning_rate=0.03,\n",
    "    hidden_size=16,  # most important hyperparameter apart from learning rate\n",
    "    # number of attention heads. Set to up to 4 for large datasets\n",
    "    attention_head_size=1,\n",
    "    dropout=0.1,  # between 0.1 and 0.3 are good values\n",
    "    hidden_continuous_size=8,  # set to <= hidden_size\n",
    "    output_size=7,  # 7 quantiles by default\n",
    "    loss=QuantileLoss(),\n",
    "    # reduce learning rate if no improvement in validation loss after x epochs\n",
    "    reduce_on_plateau_patience=4,\n",
    ")\n",
    "print(f\"Number of parameters in network: {tft.size()/1e3:.1f}k\")"
   ],
   "metadata": {
    "collapsed": false,
    "pycharm": {
     "name": "#%%\n"
    }
   }
  },
  {
   "cell_type": "code",
   "execution_count": 62,
   "outputs": [
    {
     "name": "stderr",
     "output_type": "stream",
     "text": [
      "C:\\Users\\a\\anaconda3\\envs\\venv\\lib\\site-packages\\pytorch_lightning\\trainer\\connectors\\data_connector.py:236: PossibleUserWarning: The dataloader, val_dataloader 0, does not have many workers which may be a bottleneck. Consider increasing the value of the `num_workers` argument` (try 12 which is the number of cpus on this machine) in the `DataLoader` init to improve performance.\n",
      "  rank_zero_warn(\n",
      "C:\\Users\\a\\anaconda3\\envs\\venv\\lib\\site-packages\\pytorch_lightning\\trainer\\connectors\\data_connector.py:236: PossibleUserWarning: The dataloader, train_dataloader, does not have many workers which may be a bottleneck. Consider increasing the value of the `num_workers` argument` (try 12 which is the number of cpus on this machine) in the `DataLoader` init to improve performance.\n",
      "  rank_zero_warn(\n"
     ]
    },
    {
     "data": {
      "text/plain": "Finding best initial lr:   0%|          | 0/100 [00:00<?, ?it/s]",
      "application/vnd.jupyter.widget-view+json": {
       "version_major": 2,
       "version_minor": 0,
       "model_id": "709a84113a0543a69bbb8526983c49ca"
      }
     },
     "metadata": {},
     "output_type": "display_data"
    },
    {
     "name": "stderr",
     "output_type": "stream",
     "text": [
      "`Trainer.fit` stopped: `max_steps=100` reached.\n",
      "Restoring states from the checkpoint path at D:\\MyProject\\TFT\\.lr_find_46596c38-4039-4d0d-994b-8067df44a73a.ckpt\n"
     ]
    },
    {
     "name": "stdout",
     "output_type": "stream",
     "text": [
      "suggested learning rate: 0.01862087136662867\n"
     ]
    },
    {
     "data": {
      "text/plain": "<Figure size 640x480 with 1 Axes>",
      "image/png": "[encoded data removed]"
     },
     "metadata": {},
     "output_type": "display_data"
    },
    {
     "name": "stderr",
     "output_type": "stream",
     "text": [
      "C:\\Users\\a\\AppData\\Local\\Temp\\ipykernel_15868\\2247737331.py:12: UserWarning: Matplotlib is currently using module://matplotlib_inline.backend_inline, which is a non-GUI backend, so cannot show the figure.\n",
      "  fig.show()\n"
     ]
    }
   ],
   "source": [
    "# find optimal learning rate\n",
    "res = trainer.tuner.lr_find(\n",
    "    tft,\n",
    "    train_dataloaders=train_dataloader,\n",
    "    val_dataloaders=val_dataloader,\n",
    "    max_lr=10.0,\n",
    "    min_lr=1e-6,\n",
    ")\n",
    "\n",
    "print(f\"suggested learning rate: {res.suggestion()}\")\n",
    "fig = res.plot(show=True, suggest=True)\n",
    "fig.show()"
   ],
   "metadata": {
    "collapsed": false,
    "pycharm": {
     "name": "#%%\n"
    }
   }
  },
  {
   "cell_type": "code",
   "execution_count": 63,
   "outputs": [
    {
     "name": "stderr",
     "output_type": "stream",
     "text": [
      "C:\\Users\\a\\anaconda3\\envs\\venv\\lib\\site-packages\\pytorch_lightning\\trainer\\connectors\\accelerator_connector.py:447: LightningDeprecationWarning: Setting `Trainer(gpus=0)` is deprecated in v1.7 and will be removed in v2.0. Please use `Trainer(accelerator='gpu', devices=0)` instead.\n",
      "  rank_zero_deprecation(\n",
      "GPU available: False, used: False\n",
      "TPU available: False, using: 0 TPU cores\n",
      "IPU available: False, using: 0 IPUs\n",
      "HPU available: False, using: 0 HPUs\n"
     ]
    },
    {
     "name": "stdout",
     "output_type": "stream",
     "text": [
      "Number of parameters in network: 29.7k\n"
     ]
    },
    {
     "name": "stderr",
     "output_type": "stream",
     "text": [
      "C:\\Users\\a\\anaconda3\\envs\\venv\\lib\\site-packages\\pytorch_lightning\\utilities\\parsing.py:268: UserWarning: Attribute 'loss' is an instance of `nn.Module` and is already saved during checkpointing. It is recommended to ignore them using `self.save_hyperparameters(ignore=['loss'])`.\n",
      "  rank_zero_warn(\n",
      "C:\\Users\\a\\anaconda3\\envs\\venv\\lib\\site-packages\\pytorch_lightning\\utilities\\parsing.py:268: UserWarning: Attribute 'logging_metrics' is an instance of `nn.Module` and is already saved during checkpointing. It is recommended to ignore them using `self.save_hyperparameters(ignore=['logging_metrics'])`.\n",
      "  rank_zero_warn(\n"
     ]
    }
   ],
   "source": [
    "# configure network and trainer\n",
    "early_stop_callback = EarlyStopping(monitor=\"val_loss\", min_delta=1e-4, patience=10, verbose=False, mode=\"min\")\n",
    "lr_logger = LearningRateMonitor()  # log the learning rate\n",
    "logger = TensorBoardLogger(\"lightning_logs\")  # logging results to a tensorboard\n",
    "\n",
    "trainer = pl.Trainer(\n",
    "    max_epochs=30,\n",
    "    gpus=0,\n",
    "    enable_model_summary=True,\n",
    "    gradient_clip_val=0.1,\n",
    "    limit_train_batches=30,  # coment in for training, running valiation every 30 batches\n",
    "    # fast_dev_run=True,  # comment in to check that networkor dataset has no serious bugs\n",
    "    callbacks=[lr_logger, early_stop_callback],\n",
    "    logger=logger,\n",
    ")\n",
    "\n",
    "\n",
    "tft = TemporalFusionTransformer.from_dataset(\n",
    "    training,\n",
    "    learning_rate=0.03,\n",
    "    hidden_size=16,\n",
    "    attention_head_size=1,\n",
    "    dropout=0.1,\n",
    "    hidden_continuous_size=8,\n",
    "    output_size=7,  # 7 quantiles by default\n",
    "    loss=QuantileLoss(),\n",
    "    log_interval=10,  # uncomment for learning rate finder and otherwise, e.g. to 10 for logging every 10 batches\n",
    "    reduce_on_plateau_patience=4,\n",
    ")\n",
    "print(f\"Number of parameters in network: {tft.size()/1e3:.1f}k\")"
   ],
   "metadata": {
    "collapsed": false,
    "pycharm": {
     "name": "#%%\n"
    }
   }
  },
  {
   "cell_type": "code",
   "execution_count": 64,
   "outputs": [
    {
     "name": "stderr",
     "output_type": "stream",
     "text": [
      "Missing logger folder: lightning_logs\\lightning_logs\n",
      "\n",
      "   | Name                               | Type                            | Params\n",
      "----------------------------------------------------------------------------------------\n",
      "0  | loss                               | QuantileLoss                    | 0     \n",
      "1  | logging_metrics                    | ModuleList                      | 0     \n",
      "2  | input_embeddings                   | MultiEmbedding                  | 1.3 K \n",
      "3  | prescalers                         | ModuleDict                      | 256   \n",
      "4  | static_variable_selection          | VariableSelectionNetwork        | 3.4 K \n",
      "5  | encoder_variable_selection         | VariableSelectionNetwork        | 8.0 K \n",
      "6  | decoder_variable_selection         | VariableSelectionNetwork        | 2.7 K \n",
      "7  | static_context_variable_selection  | GatedResidualNetwork            | 1.1 K \n",
      "8  | static_context_initial_hidden_lstm | GatedResidualNetwork            | 1.1 K \n",
      "9  | static_context_initial_cell_lstm   | GatedResidualNetwork            | 1.1 K \n",
      "10 | static_context_enrichment          | GatedResidualNetwork            | 1.1 K \n",
      "11 | lstm_encoder                       | LSTM                            | 2.2 K \n",
      "12 | lstm_decoder                       | LSTM                            | 2.2 K \n",
      "13 | post_lstm_gate_encoder             | GatedLinearUnit                 | 544   \n",
      "14 | post_lstm_add_norm_encoder         | AddNorm                         | 32    \n",
      "15 | static_enrichment                  | GatedResidualNetwork            | 1.4 K \n",
      "16 | multihead_attn                     | InterpretableMultiHeadAttention | 1.1 K \n",
      "17 | post_attn_gate_norm                | GateAddNorm                     | 576   \n",
      "18 | pos_wise_ff                        | GatedResidualNetwork            | 1.1 K \n",
      "19 | pre_output_gate_norm               | GateAddNorm                     | 576   \n",
      "20 | output_layer                       | Linear                          | 119   \n",
      "----------------------------------------------------------------------------------------\n",
      "29.7 K    Trainable params\n",
      "0         Non-trainable params\n",
      "29.7 K    Total params\n",
      "0.119     Total estimated model params size (MB)\n"
     ]
    },
    {
     "data": {
      "text/plain": "Sanity Checking: 0it [00:00, ?it/s]",
      "application/vnd.jupyter.widget-view+json": {
       "version_major": 2,
       "version_minor": 0,
       "model_id": "8317cc2cc192422fadbea640c888f247"
      }
     },
     "metadata": {},
     "output_type": "display_data"
    },
    {
     "name": "stderr",
     "output_type": "stream",
     "text": [
      "C:\\Users\\a\\anaconda3\\envs\\venv\\lib\\site-packages\\pytorch_lightning\\trainer\\connectors\\data_connector.py:236: PossibleUserWarning: The dataloader, val_dataloader 0, does not have many workers which may be a bottleneck. Consider increasing the value of the `num_workers` argument` (try 12 which is the number of cpus on this machine) in the `DataLoader` init to improve performance.\n",
      "  rank_zero_warn(\n",
      "Exception in thread QueueFeederThread:\n",
      "Traceback (most recent call last):\n",
      "  File \"C:\\Users\\a\\anaconda3\\envs\\venv\\lib\\multiprocessing\\queues.py\", line 235, in _feed\n",
      "    close()\n",
      "  File \"C:\\Users\\a\\anaconda3\\envs\\venv\\lib\\multiprocessing\\connection.py\", line 177, in close\n",
      "    self._close()\n",
      "  File \"C:\\Users\\a\\anaconda3\\envs\\venv\\lib\\multiprocessing\\connection.py\", line 277, in _close\n",
      "    _CloseHandle(self._handle)\n",
      "OSError: [WinError 6] 句柄无效。\n",
      "\n",
      "During handling of the above exception, another exception occurred:\n",
      "\n",
      "Traceback (most recent call last):\n",
      "  File \"C:\\Users\\a\\anaconda3\\envs\\venv\\lib\\threading.py\", line 932, in _bootstrap_inner\n",
      "    self.run()\n",
      "  File \"C:\\Users\\a\\anaconda3\\envs\\venv\\lib\\threading.py\", line 870, in run\n",
      "    self._target(*self._args, **self._kwargs)\n",
      "  File \"C:\\Users\\a\\anaconda3\\envs\\venv\\lib\\multiprocessing\\queues.py\", line 266, in _feed\n",
      "    queue_sem.release()\n",
      "ValueError: semaphore or lock released too many times\n",
      "C:\\Users\\a\\anaconda3\\envs\\venv\\lib\\site-packages\\pytorch_lightning\\trainer\\connectors\\data_connector.py:236: PossibleUserWarning: The dataloader, train_dataloader, does not have many workers which may be a bottleneck. Consider increasing the value of the `num_workers` argument` (try 12 which is the number of cpus on this machine) in the `DataLoader` init to improve performance.\n",
      "  rank_zero_warn(\n",
      "C:\\Users\\a\\anaconda3\\envs\\venv\\lib\\site-packages\\pytorch_lightning\\trainer\\trainer.py:1892: PossibleUserWarning: The number of training batches (30) is smaller than the logging interval Trainer(log_every_n_steps=50). Set a lower value for log_every_n_steps if you want to see logs for the training epoch.\n",
      "  rank_zero_warn(\n"
     ]
    },
    {
     "data": {
      "text/plain": "Training: 0it [00:00, ?it/s]",
      "application/vnd.jupyter.widget-view+json": {
       "version_major": 2,
       "version_minor": 0,
       "model_id": "9a34b7bee5ba4230930818f09efe3f36"
      }
     },
     "metadata": {},
     "output_type": "display_data"
    },
    {
     "data": {
      "text/plain": "Validation: 0it [00:00, ?it/s]",
      "application/vnd.jupyter.widget-view+json": {
       "version_major": 2,
       "version_minor": 0,
       "model_id": "d605ac8c03a643e9ba78a6b98f3330a3"
      }
     },
     "metadata": {},
     "output_type": "display_data"
    },
    {
     "data": {
      "text/plain": "Validation: 0it [00:00, ?it/s]",
      "application/vnd.jupyter.widget-view+json": {
       "version_major": 2,
       "version_minor": 0,
       "model_id": "4573f83fd05d49698a285d48556bb2a3"
      }
     },
     "metadata": {},
     "output_type": "display_data"
    },
    {
     "data": {
      "text/plain": "Validation: 0it [00:00, ?it/s]",
      "application/vnd.jupyter.widget-view+json": {
       "version_major": 2,
       "version_minor": 0,
       "model_id": "70138813cacb40a28b306bf4d90eae40"
      }
     },
     "metadata": {},
     "output_type": "display_data"
    },
    {
     "data": {
      "text/plain": "Validation: 0it [00:00, ?it/s]",
      "application/vnd.jupyter.widget-view+json": {
       "version_major": 2,
       "version_minor": 0,
       "model_id": "41f58e7a94a74b0f95159683fc41d8a7"
      }
     },
     "metadata": {},
     "output_type": "display_data"
    },
    {
     "data": {
      "text/plain": "Validation: 0it [00:00, ?it/s]",
      "application/vnd.jupyter.widget-view+json": {
       "version_major": 2,
       "version_minor": 0,
       "model_id": "1f823034bb5f41baaa4175a9811de7b2"
      }
     },
     "metadata": {},
     "output_type": "display_data"
    },
    {
     "data": {
      "text/plain": "Validation: 0it [00:00, ?it/s]",
      "application/vnd.jupyter.widget-view+json": {
       "version_major": 2,
       "version_minor": 0,
       "model_id": "7a9804786d2040e3b7f91d9eabba76b5"
      }
     },
     "metadata": {},
     "output_type": "display_data"
    },
    {
     "data": {
      "text/plain": "Validation: 0it [00:00, ?it/s]",
      "application/vnd.jupyter.widget-view+json": {
       "version_major": 2,
       "version_minor": 0,
       "model_id": "485ba40214ef44ea8f7e728b944f1e6b"
      }
     },
     "metadata": {},
     "output_type": "display_data"
    },
    {
     "data": {
      "text/plain": "Validation: 0it [00:00, ?it/s]",
      "application/vnd.jupyter.widget-view+json": {
       "version_major": 2,
       "version_minor": 0,
       "model_id": "a20dd4a101db40d9a3aabd0e7280687c"
      }
     },
     "metadata": {},
     "output_type": "display_data"
    },
    {
     "data": {
      "text/plain": "Validation: 0it [00:00, ?it/s]",
      "application/vnd.jupyter.widget-view+json": {
       "version_major": 2,
       "version_minor": 0,
       "model_id": "18aa3d1cbe6441e6b72a928e6a90911c"
      }
     },
     "metadata": {},
     "output_type": "display_data"
    },
    {
     "data": {
      "text/plain": "Validation: 0it [00:00, ?it/s]",
      "application/vnd.jupyter.widget-view+json": {
       "version_major": 2,
       "version_minor": 0,
       "model_id": "58bb611fa8f740d397d858e53803ed0a"
      }
     },
     "metadata": {},
     "output_type": "display_data"
    },
    {
     "data": {
      "text/plain": "Validation: 0it [00:00, ?it/s]",
      "application/vnd.jupyter.widget-view+json": {
       "version_major": 2,
       "version_minor": 0,
       "model_id": "34b4f97703ea41d19251a42d7250297d"
      }
     },
     "metadata": {},
     "output_type": "display_data"
    },
    {
     "data": {
      "text/plain": "Validation: 0it [00:00, ?it/s]",
      "application/vnd.jupyter.widget-view+json": {
       "version_major": 2,
       "version_minor": 0,
       "model_id": "b9864437be364edeb733dbcc2e6cc646"
      }
     },
     "metadata": {},
     "output_type": "display_data"
    },
    {
     "data": {
      "text/plain": "Validation: 0it [00:00, ?it/s]",
      "application/vnd.jupyter.widget-view+json": {
       "version_major": 2,
       "version_minor": 0,
       "model_id": "80dd5bbcf1ef40ceb66015952ce899fb"
      }
     },
     "metadata": {},
     "output_type": "display_data"
    },
    {
     "data": {
      "text/plain": "Validation: 0it [00:00, ?it/s]",
      "application/vnd.jupyter.widget-view+json": {
       "version_major": 2,
       "version_minor": 0,
       "model_id": "7f09f999b7604cbfb647d45e94521f36"
      }
     },
     "metadata": {},
     "output_type": "display_data"
    },
    {
     "data": {
      "text/plain": "Validation: 0it [00:00, ?it/s]",
      "application/vnd.jupyter.widget-view+json": {
       "version_major": 2,
       "version_minor": 0,
       "model_id": "fd5dbfde9aa346b98345d44f58d33bf8"
      }
     },
     "metadata": {},
     "output_type": "display_data"
    },
    {
     "data": {
      "text/plain": "Validation: 0it [00:00, ?it/s]",
      "application/vnd.jupyter.widget-view+json": {
       "version_major": 2,
       "version_minor": 0,
       "model_id": "c8a66b43f25c406ab21b075396b44453"
      }
     },
     "metadata": {},
     "output_type": "display_data"
    },
    {
     "data": {
      "text/plain": "Validation: 0it [00:00, ?it/s]",
      "application/vnd.jupyter.widget-view+json": {
       "version_major": 2,
       "version_minor": 0,
       "model_id": "990c62a70a064583a2f18675f66eee9c"
      }
     },
     "metadata": {},
     "output_type": "display_data"
    },
    {
     "data": {
      "text/plain": "Validation: 0it [00:00, ?it/s]",
      "application/vnd.jupyter.widget-view+json": {
       "version_major": 2,
       "version_minor": 0,
       "model_id": "7eef61a3539f4b8ba4be1f0ce8a27c91"
      }
     },
     "metadata": {},
     "output_type": "display_data"
    },
    {
     "data": {
      "text/plain": "Validation: 0it [00:00, ?it/s]",
      "application/vnd.jupyter.widget-view+json": {
       "version_major": 2,
       "version_minor": 0,
       "model_id": "96f91f2b35974861a89e58bf308a7fdd"
      }
     },
     "metadata": {},
     "output_type": "display_data"
    },
    {
     "data": {
      "text/plain": "Validation: 0it [00:00, ?it/s]",
      "application/vnd.jupyter.widget-view+json": {
       "version_major": 2,
       "version_minor": 0,
       "model_id": "a68c6974045a498d8b23daba4b738f4f"
      }
     },
     "metadata": {},
     "output_type": "display_data"
    },
    {
     "data": {
      "text/plain": "Validation: 0it [00:00, ?it/s]",
      "application/vnd.jupyter.widget-view+json": {
       "version_major": 2,
       "version_minor": 0,
       "model_id": "ee400399e5bb45849fd2692654a65de4"
      }
     },
     "metadata": {},
     "output_type": "display_data"
    },
    {
     "data": {
      "text/plain": "Validation: 0it [00:00, ?it/s]",
      "application/vnd.jupyter.widget-view+json": {
       "version_major": 2,
       "version_minor": 0,
       "model_id": "bed2ad065369400b970cc33779d144c5"
      }
     },
     "metadata": {},
     "output_type": "display_data"
    },
    {
     "data": {
      "text/plain": "Validation: 0it [00:00, ?it/s]",
      "application/vnd.jupyter.widget-view+json": {
       "version_major": 2,
       "version_minor": 0,
       "model_id": "ebe380041f344956a892eb947252c20b"
      }
     },
     "metadata": {},
     "output_type": "display_data"
    }
   ],
   "source": [
    "trainer.fit(\n",
    "    tft,\n",
    "    train_dataloaders=train_dataloader,\n",
    "    val_dataloaders=val_dataloader,\n",
    ")"
   ],
   "metadata": {
    "collapsed": false,
    "pycharm": {
     "name": "#%%\n"
    }
   }
  },
  {
   "cell_type": "code",
   "execution_count": 2,
   "outputs": [
    {
     "data": {
      "text/plain": "1"
     },
     "execution_count": 2,
     "metadata": {},
     "output_type": "execute_result"
    }
   ],
   "source": [
    "a = 1\n",
    "b = 2\n",
    "c = a or b\n",
    "c"
   ],
   "metadata": {
    "collapsed": false,
    "pycharm": {
     "name": "#%%\n"
    }
   }
  },
  {
   "cell_type": "code",
   "execution_count": 5,
   "outputs": [
    {
     "name": "stdout",
     "output_type": "stream",
     "text": [
      "[-0.49604261  0.23810616  0.4473159   0.02553372 -0.22499214 -0.43720962\n",
      "  0.44986829  0.49981462  0.00531959 -0.12746346  0.11686006 -0.15548824\n",
      "  0.23825576  0.08972241 -0.2959239  -0.27528163  0.29037345 -0.31352057\n",
      "  0.40412053  0.39102827  0.43830443  0.29759509  0.0770296  -0.25419869\n",
      "  0.00590814 -0.48548133  0.11700124  0.48964295 -0.35764881 -0.08795071]\n"
     ]
    }
   ],
   "source": [
    "import numpy as np\n",
    "c = np.random.rand(30) - 0.5\n",
    "print(c)"
   ],
   "metadata": {
    "collapsed": false,
    "pycharm": {
     "name": "#%%\n"
    }
   }
  },
  {
   "cell_type": "code",
   "execution_count": 6,
   "outputs": [
    {
     "data": {
      "text/plain": "array([0, 0, 0, 0, 0, 0, 0, 0, 0, 0, 1, 1, 1, 1, 1, 1, 1, 1, 1, 1, 2, 2,\n       2, 2, 2, 2, 2, 2, 2, 2])"
     },
     "execution_count": 6,
     "metadata": {},
     "output_type": "execute_result"
    }
   ],
   "source": [
    "np.repeat(np.arange(3), 10)\n"
   ],
   "metadata": {
    "collapsed": false,
    "pycharm": {
     "name": "#%%\n"
    }
   }
  },
  {
   "cell_type": "code",
   "execution_count": 7,
   "outputs": [],
   "source": [
    "import numpy as np\n",
    "import pandas as pd\n",
    "\n",
    "test_data = pd.DataFrame(\n",
    "    dict(\n",
    "        value=np.random.rand(30) - 0.5,\n",
    "        group=np.repeat(np.arange(3), 10),\n",
    "        time_idx=np.tile(np.arange(10), 3)\n",
    "    )\n",
    ")"
   ],
   "metadata": {
    "collapsed": false,
    "pycharm": {
     "name": "#%%\n"
    }
   }
  },
  {
   "cell_type": "code",
   "execution_count": 8,
   "outputs": [],
   "source": [
    "from pytorch_forecasting import TimeSeriesDataSet\n",
    "dataset = TimeSeriesDataSet(\n",
    "    test_data,\n",
    "    group_ids=[\"group\"],\n",
    "    target=\"value\",\n",
    "    time_idx=\"time_idx\",\n",
    "    min_encoder_length=5,\n",
    "    max_encoder_length=5,\n",
    "    min_prediction_length=2,\n",
    "    max_prediction_length=2,\n",
    "    time_varying_unknown_reals=[\"value\"]\n",
    ")"
   ],
   "metadata": {
    "collapsed": false,
    "pycharm": {
     "name": "#%%\n"
    }
   }
  },
  {
   "cell_type": "code",
   "execution_count": 9,
   "outputs": [
    {
     "data": {
      "text/plain": "{'time_idx': 'time_idx',\n 'target': 'value',\n 'group_ids': ['group'],\n 'weight': None,\n 'max_encoder_length': 5,\n 'min_encoder_length': 5,\n 'min_prediction_idx': 0,\n 'min_prediction_length': 2,\n 'max_prediction_length': 2,\n 'static_categoricals': [],\n 'static_reals': [],\n 'time_varying_known_categoricals': [],\n 'time_varying_known_reals': [],\n 'time_varying_unknown_categoricals': [],\n 'time_varying_unknown_reals': ['value'],\n 'variable_groups': {},\n 'constant_fill_strategy': {},\n 'allow_missing_timesteps': False,\n 'lags': {},\n 'add_relative_time_idx': False,\n 'add_target_scales': False,\n 'add_encoder_length': False,\n 'target_normalizer': GroupNormalizer(\n \tmethod='standard',\n \tgroups=[],\n \tcenter=True,\n \tscale_by_group=False,\n \ttransformation=None,\n \tmethod_kwargs={}\n ),\n 'categorical_encoders': {'__group_id__group': NaNLabelEncoder(add_nan=False, warn=True),\n  'group': NaNLabelEncoder(add_nan=False, warn=True)},\n 'scalers': {},\n 'randomize_length': None,\n 'predict_mode': False}"
     },
     "execution_count": 9,
     "metadata": {},
     "output_type": "execute_result"
    }
   ],
   "source": [
    "dataset.get_parameters()"
   ],
   "metadata": {
    "collapsed": false,
    "pycharm": {
     "name": "#%%\n"
    }
   }
  },
  {
   "cell_type": "code",
   "execution_count": 10,
   "outputs": [
    {
     "name": "stdout",
     "output_type": "stream",
     "text": [
      "x= {'encoder_cat': tensor([], size=(4, 5, 0), dtype=torch.int64), 'encoder_cont': tensor([[[-0.8307],\n",
      "         [-0.6007],\n",
      "         [-0.5853],\n",
      "         [ 0.1155],\n",
      "         [ 1.3908]],\n",
      "\n",
      "        [[-0.5237],\n",
      "         [-0.9083],\n",
      "         [ 0.9925],\n",
      "         [ 0.8076],\n",
      "         [-1.6073]],\n",
      "\n",
      "        [[ 0.3562],\n",
      "         [-0.8307],\n",
      "         [-0.6007],\n",
      "         [-0.5853],\n",
      "         [ 0.1155]],\n",
      "\n",
      "        [[-0.6571],\n",
      "         [-0.2643],\n",
      "         [ 1.3029],\n",
      "         [-1.5070],\n",
      "         [ 0.6643]]]), 'encoder_target': tensor([[-0.2380, -0.1682, -0.1635,  0.0493,  0.4365],\n",
      "        [-0.1448, -0.2616,  0.3156,  0.2594, -0.4739],\n",
      "        [ 0.1224, -0.2380, -0.1682, -0.1635,  0.0493],\n",
      "        [-0.1853, -0.0661,  0.4098, -0.4434,  0.2159]]), 'encoder_lengths': tensor([5, 5, 5, 5]), 'decoder_cat': tensor([], size=(4, 2, 0), dtype=torch.int64), 'decoder_cont': tensor([[[ 1.4975],\n",
      "         [ 0.6476]],\n",
      "\n",
      "        [[ 0.0999],\n",
      "         [ 1.0531]],\n",
      "\n",
      "        [[ 1.3908],\n",
      "         [ 1.4975]],\n",
      "\n",
      "        [[-1.1343],\n",
      "         [-0.1575]]]), 'decoder_target': tensor([[ 0.4689,  0.2108],\n",
      "        [ 0.0445,  0.3340],\n",
      "        [ 0.4365,  0.4689],\n",
      "        [-0.3302, -0.0336]]), 'decoder_lengths': tensor([2, 2, 2, 2]), 'decoder_time_idx': tensor([[7, 8],\n",
      "        [5, 6],\n",
      "        [6, 7],\n",
      "        [7, 8]]), 'groups': tensor([[1],\n",
      "        [2],\n",
      "        [1],\n",
      "        [0]]), 'target_scale': tensor([[0.0142, 0.3037],\n",
      "        [0.0142, 0.3037],\n",
      "        [0.0142, 0.3037],\n",
      "        [0.0142, 0.3037]])}\n",
      "\n",
      "y =  (tensor([[ 0.4689,  0.2108],\n",
      "        [ 0.0445,  0.3340],\n",
      "        [ 0.4365,  0.4689],\n",
      "        [-0.3302, -0.0336]]), None)\n",
      "\n",
      "sizes of x =\n",
      "\tencoder_cat = torch.Size([4, 5, 0])\n",
      "\tencoder_cont = torch.Size([4, 5, 1])\n",
      "\tencoder_target = torch.Size([4, 5])\n",
      "\tencoder_lengths = torch.Size([4])\n",
      "\tdecoder_cat = torch.Size([4, 2, 0])\n",
      "\tdecoder_cont = torch.Size([4, 2, 1])\n",
      "\tdecoder_target = torch.Size([4, 2])\n",
      "\tdecoder_lengths = torch.Size([4])\n",
      "\tdecoder_time_idx = torch.Size([4, 2])\n",
      "\tgroups = torch.Size([4, 1])\n",
      "\ttarget_scale = torch.Size([4, 2])\n"
     ]
    }
   ],
   "source": [
    "dataloader = dataset.to_dataloader(batch_size=4)\n",
    "\n",
    "x, y = next(iter(dataloader))\n",
    "print(\"x=\", x)\n",
    "print(\"\\ny = \", y)\n",
    "print(\"\\nsizes of x =\")\n",
    "for key, value in x.items():\n",
    "    print(f\"\\t{key} = {value.size()}\")"
   ],
   "metadata": {
    "collapsed": false,
    "pycharm": {
     "name": "#%%\n"
    }
   }
  },
  {
   "cell_type": "code",
   "execution_count": 11,
   "outputs": [
    {
     "ename": "NameError",
     "evalue": "name 'torch' is not defined",
     "output_type": "error",
     "traceback": [
      "\u001B[1;31m---------------------------------------------------------------------------\u001B[0m",
      "\u001B[1;31mNameError\u001B[0m                                 Traceback (most recent call last)",
      "Input \u001B[1;32mIn [11]\u001B[0m, in \u001B[0;36m<cell line: 1>\u001B[1;34m()\u001B[0m\n\u001B[1;32m----> 1\u001B[0m c \u001B[38;5;241m=\u001B[39m \u001B[43mtorch\u001B[49m\u001B[38;5;241m.\u001B[39mtensor([], size\u001B[38;5;241m=\u001B[39m(\u001B[38;5;241m4\u001B[39m, \u001B[38;5;241m5\u001B[39m, \u001B[38;5;241m0\u001B[39m), dtype\u001B[38;5;241m=\u001B[39mtorch\u001B[38;5;241m.\u001B[39mint64)\n\u001B[0;32m      2\u001B[0m c\n",
      "\u001B[1;31mNameError\u001B[0m: name 'torch' is not defined"
     ]
    }
   ],
   "source": [
    "c = torch.tensor([], size=(4, 5, 0), dtype=torch.int64)\n",
    "c"
   ],
   "metadata": {
    "collapsed": false,
    "pycharm": {
     "name": "#%%\n"
    }
   }
  },
  {
   "cell_type": "code",
   "execution_count": 12,
   "outputs": [
    {
     "ename": "TypeError",
     "evalue": "tensor() got an unexpected keyword argument 'size'",
     "output_type": "error",
     "traceback": [
      "\u001B[1;31m---------------------------------------------------------------------------\u001B[0m",
      "\u001B[1;31mTypeError\u001B[0m                                 Traceback (most recent call last)",
      "Input \u001B[1;32mIn [12]\u001B[0m, in \u001B[0;36m<cell line: 2>\u001B[1;34m()\u001B[0m\n\u001B[0;32m      1\u001B[0m \u001B[38;5;28;01mimport\u001B[39;00m \u001B[38;5;21;01mtorch\u001B[39;00m\n\u001B[1;32m----> 2\u001B[0m c \u001B[38;5;241m=\u001B[39m \u001B[43mtorch\u001B[49m\u001B[38;5;241;43m.\u001B[39;49m\u001B[43mtensor\u001B[49m\u001B[43m(\u001B[49m\u001B[43m[\u001B[49m\u001B[43m]\u001B[49m\u001B[43m,\u001B[49m\u001B[43m \u001B[49m\u001B[43msize\u001B[49m\u001B[38;5;241;43m=\u001B[39;49m\u001B[43m(\u001B[49m\u001B[38;5;241;43m4\u001B[39;49m\u001B[43m,\u001B[49m\u001B[43m \u001B[49m\u001B[38;5;241;43m5\u001B[39;49m\u001B[43m,\u001B[49m\u001B[43m \u001B[49m\u001B[38;5;241;43m0\u001B[39;49m\u001B[43m)\u001B[49m\u001B[43m,\u001B[49m\u001B[43m \u001B[49m\u001B[43mdtype\u001B[49m\u001B[38;5;241;43m=\u001B[39;49m\u001B[43mtorch\u001B[49m\u001B[38;5;241;43m.\u001B[39;49m\u001B[43mint64\u001B[49m\u001B[43m)\u001B[49m\n\u001B[0;32m      3\u001B[0m c\n",
      "\u001B[1;31mTypeError\u001B[0m: tensor() got an unexpected keyword argument 'size'"
     ]
    }
   ],
   "source": [
    "import torch\n",
    "c = torch.tensor([], size=(4, 5, 0), dtype=torch.int64)\n",
    "c"
   ],
   "metadata": {
    "collapsed": false,
    "pycharm": {
     "name": "#%%\n"
    }
   }
  },
  {
   "cell_type": "code",
   "execution_count": 13,
   "outputs": [
    {
     "data": {
      "text/plain": "    time_first  time_last  time_diff_to_next  index_start  time  count  \\\n0            0          9                  1            0     0     10   \n1            0          9                  1            1     1     10   \n2            0          9                  1            2     2     10   \n3            0          9                  1            3     3     10   \n10           0          9                  1           10     0     10   \n11           0          9                  1           11     1     10   \n12           0          9                  1           12     2     10   \n13           0          9                  1           13     3     10   \n20           0          9                  1           20     0     10   \n21           0          9                  1           21     1     10   \n22           0          9                  1           22     2     10   \n23           0          9                  1           23     3     10   \n\n    sequence_id  index_end  sequence_length  \n0             0          6                7  \n1             0          7                7  \n2             0          8                7  \n3             0          9                7  \n10            1         16                7  \n11            1         17                7  \n12            1         18                7  \n13            1         19                7  \n20            2         26                7  \n21            2         27                7  \n22            2         28                7  \n23            2         29                7  ",
      "text/html": "<div>\n<style scoped>\n    .dataframe tbody tr th:only-of-type {\n        vertical-align: middle;\n    }\n\n    .dataframe tbody tr th {\n        vertical-align: top;\n    }\n\n    .dataframe thead th {\n        text-align: right;\n    }\n</style>\n<table border=\"1\" class=\"dataframe\">\n  <thead>\n    <tr style=\"text-align: right;\">\n      <th></th>\n      <th>time_first</th>\n      <th>time_last</th>\n      <th>time_diff_to_next</th>\n      <th>index_start</th>\n      <th>time</th>\n      <th>count</th>\n      <th>sequence_id</th>\n      <th>index_end</th>\n      <th>sequence_length</th>\n    </tr>\n  </thead>\n  <tbody>\n    <tr>\n      <th>0</th>\n      <td>0</td>\n      <td>9</td>\n      <td>1</td>\n      <td>0</td>\n      <td>0</td>\n      <td>10</td>\n      <td>0</td>\n      <td>6</td>\n      <td>7</td>\n    </tr>\n    <tr>\n      <th>1</th>\n      <td>0</td>\n      <td>9</td>\n      <td>1</td>\n      <td>1</td>\n      <td>1</td>\n      <td>10</td>\n      <td>0</td>\n      <td>7</td>\n      <td>7</td>\n    </tr>\n    <tr>\n      <th>2</th>\n      <td>0</td>\n      <td>9</td>\n      <td>1</td>\n      <td>2</td>\n      <td>2</td>\n      <td>10</td>\n      <td>0</td>\n      <td>8</td>\n      <td>7</td>\n    </tr>\n    <tr>\n      <th>3</th>\n      <td>0</td>\n      <td>9</td>\n      <td>1</td>\n      <td>3</td>\n      <td>3</td>\n      <td>10</td>\n      <td>0</td>\n      <td>9</td>\n      <td>7</td>\n    </tr>\n    <tr>\n      <th>10</th>\n      <td>0</td>\n      <td>9</td>\n      <td>1</td>\n      <td>10</td>\n      <td>0</td>\n      <td>10</td>\n      <td>1</td>\n      <td>16</td>\n      <td>7</td>\n    </tr>\n    <tr>\n      <th>11</th>\n      <td>0</td>\n      <td>9</td>\n      <td>1</td>\n      <td>11</td>\n      <td>1</td>\n      <td>10</td>\n      <td>1</td>\n      <td>17</td>\n      <td>7</td>\n    </tr>\n    <tr>\n      <th>12</th>\n      <td>0</td>\n      <td>9</td>\n      <td>1</td>\n      <td>12</td>\n      <td>2</td>\n      <td>10</td>\n      <td>1</td>\n      <td>18</td>\n      <td>7</td>\n    </tr>\n    <tr>\n      <th>13</th>\n      <td>0</td>\n      <td>9</td>\n      <td>1</td>\n      <td>13</td>\n      <td>3</td>\n      <td>10</td>\n      <td>1</td>\n      <td>19</td>\n      <td>7</td>\n    </tr>\n    <tr>\n      <th>20</th>\n      <td>0</td>\n      <td>9</td>\n      <td>1</td>\n      <td>20</td>\n      <td>0</td>\n      <td>10</td>\n      <td>2</td>\n      <td>26</td>\n      <td>7</td>\n    </tr>\n    <tr>\n      <th>21</th>\n      <td>0</td>\n      <td>9</td>\n      <td>1</td>\n      <td>21</td>\n      <td>1</td>\n      <td>10</td>\n      <td>2</td>\n      <td>27</td>\n      <td>7</td>\n    </tr>\n    <tr>\n      <th>22</th>\n      <td>0</td>\n      <td>9</td>\n      <td>1</td>\n      <td>22</td>\n      <td>2</td>\n      <td>10</td>\n      <td>2</td>\n      <td>28</td>\n      <td>7</td>\n    </tr>\n    <tr>\n      <th>23</th>\n      <td>0</td>\n      <td>9</td>\n      <td>1</td>\n      <td>23</td>\n      <td>3</td>\n      <td>10</td>\n      <td>2</td>\n      <td>29</td>\n      <td>7</td>\n    </tr>\n  </tbody>\n</table>\n</div>"
     },
     "execution_count": 13,
     "metadata": {},
     "output_type": "execute_result"
    }
   ],
   "source": [
    "c = dataset.index\n",
    "c"
   ],
   "metadata": {
    "collapsed": false,
    "pycharm": {
     "name": "#%%\n"
    }
   }
  },
  {
   "cell_type": "code",
   "execution_count": 14,
   "outputs": [
    {
     "ename": "NameError",
     "evalue": "name 'data' is not defined",
     "output_type": "error",
     "traceback": [
      "\u001B[1;31m---------------------------------------------------------------------------\u001B[0m",
      "\u001B[1;31mNameError\u001B[0m                                 Traceback (most recent call last)",
      "Input \u001B[1;32mIn [14]\u001B[0m, in \u001B[0;36m<cell line: 1>\u001B[1;34m()\u001B[0m\n\u001B[1;32m----> 1\u001B[0m \u001B[43mdata\u001B[49m\u001B[38;5;241m.\u001B[39mloc[dataset\u001B[38;5;241m.\u001B[39mindex, \u001B[38;5;124m\"\u001B[39m\u001B[38;5;124mtarget\u001B[39m\u001B[38;5;124m\"\u001B[39m]\n",
      "\u001B[1;31mNameError\u001B[0m: name 'data' is not defined"
     ]
    }
   ],
   "source": [
    "data.loc[dataset.index, \"target\"]"
   ],
   "metadata": {
    "collapsed": false,
    "pycharm": {
     "name": "#%%\n"
    }
   }
  },
  {
   "cell_type": "code",
   "execution_count": 15,
   "outputs": [
    {
     "ename": "NameError",
     "evalue": "name 'data' is not defined",
     "output_type": "error",
     "traceback": [
      "\u001B[1;31m---------------------------------------------------------------------------\u001B[0m",
      "\u001B[1;31mNameError\u001B[0m                                 Traceback (most recent call last)",
      "Input \u001B[1;32mIn [15]\u001B[0m, in \u001B[0;36m<cell line: 1>\u001B[1;34m()\u001B[0m\n\u001B[1;32m----> 1\u001B[0m probabilities \u001B[38;5;241m=\u001B[39m np\u001B[38;5;241m.\u001B[39msqrt(\u001B[38;5;241m1\u001B[39m \u001B[38;5;241m+\u001B[39m \u001B[43mdata\u001B[49m\u001B[38;5;241m.\u001B[39mloc[dataset\u001B[38;5;241m.\u001B[39mindex, \u001B[38;5;124m\"\u001B[39m\u001B[38;5;124mtarget\u001B[39m\u001B[38;5;124m\"\u001B[39m])\n",
      "\u001B[1;31mNameError\u001B[0m: name 'data' is not defined"
     ]
    }
   ],
   "source": [
    "probabilities = np.sqrt(1 + data.loc[dataset.index, \"target\"])"
   ],
   "metadata": {
    "collapsed": false,
    "pycharm": {
     "name": "#%%\n"
    }
   }
  },
  {
   "cell_type": "code",
   "execution_count": null,
   "outputs": [],
   "source": [],
   "metadata": {
    "collapsed": false,
    "pycharm": {
     "name": "#%%\n"
    }
   }
  }
 ],
 "metadata": {
  "kernelspec": {
   "name": "venv",
   "language": "python",
   "display_name": "venv"
  },
  "language_info": {
   "codemirror_mode": {
    "name": "ipython",
    "version": 2
   },
   "file_extension": ".py",
   "mimetype": "text/x-python",
   "name": "python",
   "nbconvert_exporter": "python",
   "pygments_lexer": "ipython2",
   "version": "2.7.6"
  }
 },
 "nbformat": 4,
 "nbformat_minor": 0
}